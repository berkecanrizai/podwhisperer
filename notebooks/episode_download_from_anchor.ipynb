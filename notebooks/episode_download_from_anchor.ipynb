{
 "cells": [
  {
   "cell_type": "code",
   "execution_count": null,
   "id": "305aa24d",
   "metadata": {},
   "outputs": [],
   "source": [
    "!pip install feedparser"
   ]
  },
  {
   "cell_type": "code",
   "execution_count": null,
   "id": "e5a92e98",
   "metadata": {},
   "outputs": [],
   "source": [
    "import boto3\n",
    "import feedparser\n",
    "import re\n",
    "import requests\n",
    "from tqdm.notebook import tqdm"
   ]
  },
  {
   "cell_type": "code",
   "execution_count": null,
   "id": "fb34ff8d",
   "metadata": {},
   "outputs": [],
   "source": [
    "session = boto3.session.Session(profile_name='dev2.AdministratorAccess')\n",
    "account_id = session.client('sts').get_caller_identity()['Account']\n",
    "region = session.region_name"
   ]
  },
  {
   "cell_type": "code",
   "execution_count": null,
   "id": "4ebc5574",
   "metadata": {},
   "outputs": [],
   "source": [
    "anchor_rss_url = 'https://anchor.fm/s/6a3312a0/podcast/rss'"
   ]
  },
  {
   "cell_type": "code",
   "execution_count": null,
   "id": "c1be6db6",
   "metadata": {},
   "outputs": [],
   "source": [
    "feed = feedparser.parse(anchor_rss_url)"
   ]
  },
  {
   "cell_type": "code",
   "execution_count": null,
   "id": "65624e55",
   "metadata": {},
   "outputs": [],
   "source": [
    "def sorter(x):\n",
    "#     print(x, x['episode_number'])\n",
    "    return "
   ]
  },
  {
   "cell_type": "code",
   "execution_count": null,
   "id": "64c07d07",
   "metadata": {},
   "outputs": [],
   "source": [
    "episodes = []\n",
    "for entry in feed['entries']:\n",
    "    audio_links = [l for l in entry['links'] if l['type'] == 'audio/x-m4a']\n",
    "    if len(audio_links) > 0:\n",
    "        title = entry['title']\n",
    "        episode_number_s = re.sub(r'(\\d*)[^\\d].*$', r'\\1', entry['title'])\n",
    "        if len(episode_number_s) == 0:\n",
    "            print(f'WARNING: No episode number found in {title}')\n",
    "        else:\n",
    "            episodes.append({\n",
    "                'audio_url': audio_links[0]['href'],\n",
    "                'title': entry['title'],\n",
    "                'episode_number': int(episode_number_s)\n",
    "            })\n",
    "episodes.sort(key=lambda x: x['episode_number'])"
   ]
  },
  {
   "cell_type": "code",
   "execution_count": null,
   "id": "f12a1898",
   "metadata": {},
   "outputs": [],
   "source": [
    "episodes"
   ]
  },
  {
   "cell_type": "code",
   "execution_count": null,
   "id": "a8ed9a4f",
   "metadata": {},
   "outputs": [],
   "source": [
    "bucket_name = f'pod-transcription-{account_id}-{region}'"
   ]
  },
  {
   "cell_type": "code",
   "execution_count": null,
   "id": "6346ab13",
   "metadata": {},
   "outputs": [],
   "source": [
    "s3_client = session.client('s3')"
   ]
  },
  {
   "cell_type": "code",
   "execution_count": null,
   "id": "8e4cf1bd",
   "metadata": {},
   "outputs": [],
   "source": [
    "for episode in tqdm(episodes):\n",
    "    audio_key = f'audio/{episode[\"episode_number\"]}.m4a'\n",
    "    print(f'Uploading {episode[\"audio_url\"]} to s3://{bucket_name}/{audio_key}')\n",
    "    resp = requests.get(episode[\"audio_url\"])\n",
    "    s3_client.put_object(Bucket=bucket_name, Key=audio_key, Body=resp.content)"
   ]
  },
  {
   "cell_type": "code",
   "execution_count": null,
   "id": "5531cbc0",
   "metadata": {},
   "outputs": [],
   "source": [
    "dict(item).keys()"
   ]
  },
  {
   "cell_type": "code",
   "execution_count": null,
   "id": "e43c4a2e",
   "metadata": {},
   "outputs": [],
   "source": [
    "type(item.enclosure)"
   ]
  },
  {
   "cell_type": "code",
   "execution_count": null,
   "id": "f19467df",
   "metadata": {},
   "outputs": [],
   "source": [
    "item"
   ]
  },
  {
   "cell_type": "code",
   "execution_count": null,
   "id": "3eecf581",
   "metadata": {},
   "outputs": [],
   "source": []
  }
 ],
 "metadata": {
  "kernelspec": {
   "display_name": "Python 3",
   "language": "python",
   "name": "python3"
  },
  "language_info": {
   "codemirror_mode": {
    "name": "ipython",
    "version": 3
   },
   "file_extension": ".py",
   "mimetype": "text/x-python",
   "name": "python",
   "nbconvert_exporter": "python",
   "pygments_lexer": "ipython3"
  }
 },
 "nbformat": 4,
 "nbformat_minor": 5
}
