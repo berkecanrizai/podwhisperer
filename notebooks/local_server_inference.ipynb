{
 "cells": [
  {
   "cell_type": "code",
   "execution_count": null,
   "id": "421ac51f",
   "metadata": {},
   "outputs": [],
   "source": [
    "import json\n",
    "from concurrent.futures import ThreadPoolExecutor, as_completed\n",
    "import requests\n",
    "import logging\n",
    "logging.basicConfig(level=logging.INFO)\n",
    "logger = logging.getLogger('nb')"
   ]
  },
  {
   "cell_type": "code",
   "execution_count": null,
   "id": "8a56bca4",
   "metadata": {},
   "outputs": [],
   "source": [
    "inference_url = 'http://192.168.68.111:8080/invocations'"
   ]
  },
  {
   "cell_type": "code",
   "execution_count": null,
   "id": "8d6fe071",
   "metadata": {},
   "outputs": [],
   "source": [
    "def run(num):\n",
    "    print(num)\n",
    "    payload = {\n",
    "        \"bucket_name\": \"pod-transcription-935672627075-eu-west-1\",\n",
    "        \"object_key\": f\"audio/{num}.m4a\"\n",
    "    }\n",
    "    return requests.post(inference_url, data=json.dumps(payload),\n",
    "        headers={\n",
    "            'content-type': 'application/json'\n",
    "        }\n",
    "    )"
   ]
  },
  {
   "cell_type": "code",
   "execution_count": null,
   "id": "9ea181f9",
   "metadata": {},
   "outputs": [],
   "source": [
    "with ThreadPoolExecutor(max_workers=10) as ex:\n",
    "    futs = [ex.submit(run, num) for num in range(51, 55)]\n",
    "        \n",
    "responses = []\n",
    "for res in as_completed(futs):\n",
    "    try: \n",
    "        responses.append(res.result())\n",
    "    except:\n",
    "        logger.exception()\n",
    "responses"
   ]
  },
  {
   "cell_type": "code",
   "execution_count": null,
   "id": "3e1177f7",
   "metadata": {},
   "outputs": [],
   "source": [
    "resp"
   ]
  },
  {
   "cell_type": "code",
   "execution_count": null,
   "id": "0521b6fc",
   "metadata": {},
   "outputs": [],
   "source": [
    "resp.content.decode()"
   ]
  },
  {
   "cell_type": "code",
   "execution_count": null,
   "id": "c9256dc3",
   "metadata": {},
   "outputs": [],
   "source": []
  }
 ],
 "metadata": {
  "kernelspec": {
   "display_name": "Python 3",
   "language": "python",
   "name": "python3"
  },
  "language_info": {
   "codemirror_mode": {
    "name": "ipython",
    "version": 3
   },
   "file_extension": ".py",
   "mimetype": "text/x-python",
   "name": "python",
   "nbconvert_exporter": "python",
   "pygments_lexer": "ipython3"
  }
 },
 "nbformat": 4,
 "nbformat_minor": 5
}
