{
 "cells": [
  {
   "cell_type": "code",
   "execution_count": null,
   "id": "5ab7c195",
   "metadata": {},
   "outputs": [],
   "source": [
    "import boto3\n",
    "from pathlib import Path\n",
    "\n",
    "import datetime"
   ]
  },
  {
   "cell_type": "code",
   "execution_count": null,
   "id": "72407b63",
   "metadata": {},
   "outputs": [],
   "source": [
    "session = boto3.session.Session(profile_name='dev2.DevAdministratorAccess')"
   ]
  },
  {
   "cell_type": "code",
   "execution_count": null,
   "id": "8290b869",
   "metadata": {},
   "outputs": [],
   "source": [
    "region_name = session.region_name\n",
    "account_id = session.client('sts').get_caller_identity()['Account']\n",
    "region_name, account_id"
   ]
  },
  {
   "cell_type": "code",
   "execution_count": null,
   "id": "6c535a00",
   "metadata": {},
   "outputs": [],
   "source": [
    "sm_runtime = session.client('sagemaker-runtime')\n",
    "s3_client = session.client('s3')\n",
    "sage = session.client('sagemaker')"
   ]
  },
  {
   "cell_type": "code",
   "execution_count": null,
   "id": "26db69f8",
   "metadata": {},
   "outputs": [],
   "source": [
    "model_name = sage.list_models()['Models'][0]['ModelName']"
   ]
  },
  {
   "cell_type": "code",
   "execution_count": null,
   "id": "09d3810a",
   "metadata": {},
   "outputs": [],
   "source": [
    "bucket_name = f'pod-transcription-{account_id}-{region_name}'"
   ]
  },
  {
   "cell_type": "code",
   "execution_count": null,
   "id": "7b5feb91",
   "metadata": {},
   "outputs": [],
   "source": [
    "all_audio_keys = [o['Key'] for o in s3_client.list_objects_v2(Bucket=bucket_name, Prefix='audio/')['Contents']]"
   ]
  },
  {
   "cell_type": "code",
   "execution_count": null,
   "id": "4df181af",
   "metadata": {},
   "outputs": [],
   "source": [
    "episode_audio_keys = []\n",
    "for key in all_audio_keys:\n",
    "    try:\n",
    "        int(Path(key).stem)\n",
    "        episode_audio_keys.append(key)\n",
    "    except:\n",
    "        pass"
   ]
  },
  {
   "cell_type": "code",
   "execution_count": null,
   "id": "aa41b0fd",
   "metadata": {},
   "outputs": [],
   "source": [
    "print(episode_audio_keys)"
   ]
  },
  {
   "cell_type": "code",
   "execution_count": null,
   "id": "89f377a7",
   "metadata": {},
   "outputs": [],
   "source": [
    "existing_nums = []\n",
    "for obj in s3_client.list_objects_v2(Bucket=bucket_name, Prefix='whisper-batch-output/')['Contents']:\n",
    "    basename = Path(obj['Key']).stem\n",
    "    pref = basename.split('.')[0]\n",
    "    if basename.endswith('.json') and pref.isnumeric():\n",
    "        existing_nums.append(pref)\n",
    "existing_nums"
   ]
  },
  {
   "cell_type": "code",
   "execution_count": null,
   "id": "bd928317",
   "metadata": {},
   "outputs": [],
   "source": [
    "filtered_keys = [\n",
    "    key for key in episode_audio_keys if Path(key).stem.split('.')[0] not in existing_nums\n",
    "]\n",
    "print(sorted(filtered_keys), len(filtered_keys))"
   ]
  },
  {
   "cell_type": "code",
   "execution_count": null,
   "id": "50991651",
   "metadata": {},
   "outputs": [],
   "source": [
    "manifest =[\n",
    "    {\n",
    "        \"prefix\": f\"s3://{bucket_name}/whisper-batch-input/\"\n",
    "    }\n",
    "]\n",
    "for key in filtered_keys[:6]:\n",
    "    input_data = json.dumps({\n",
    "        'bucket_name': bucket_name,\n",
    "        'object_key': key,\n",
    "    })\n",
    "    input_file = f'{Path(key).stem}.json'\n",
    "    input_data_key = f'whisper-batch-input/{input_file}'\n",
    "    input_location = f's3://{bucket_name}/{input_data_key}'\n",
    "    manifest.append(input_file)\n",
    "    s3_client.put_object(Bucket=bucket_name, Key=input_data_key, Body=input_data)\n",
    "    print(f'Wrote {input_data} to s3://{bucket_name}/{input_data_key}')"
   ]
  },
  {
   "cell_type": "code",
   "execution_count": null,
   "id": "658c403b",
   "metadata": {},
   "outputs": [],
   "source": [
    "with open('../common-tags.json') as f:\n",
    "    tags = json.load(f)\n",
    "\n",
    "tag_dicts = []\n",
    "for tag in tags:\n",
    "    k, v = tag.split('=')\n",
    "    tag_dicts.append({ 'Key': k, 'Value': v})\n",
    "tag_dicts"
   ]
  },
  {
   "cell_type": "code",
   "execution_count": null,
   "id": "34111d5e",
   "metadata": {},
   "outputs": [],
   "source": [
    "job_name = datetime.datetime.now().strftime('%Y%m%d%H%M%S')\n",
    "manifest_key = f'whisper-batch-input/{job_name}.manifest'\n",
    "manifest_location = f's3://{bucket_name}/{manifest_key}'\n",
    "print(f'Wrote {manifest} to {manifest_location}')\n",
    "s3_client.put_object(Bucket=bucket_name, Key=manifest_key, Body=json.dumps(manifest))\n",
    "\n",
    "output_location = f's3://{bucket_name}/whisper-batch-output/{job_name}'\n",
    "response = sage.create_transform_job(\n",
    "    TransformJobName=job_name,\n",
    "    ModelName=model_name,\n",
    "    MaxConcurrentTransforms=1,\n",
    "    BatchStrategy='SingleRecord',\n",
    "    ModelClientConfig={\n",
    "        'InvocationsTimeoutInSeconds': 3600,\n",
    "        'InvocationsMaxRetries': 0\n",
    "    },\n",
    "    TransformInput={\n",
    "        'DataSource': {\n",
    "            'S3DataSource': {\n",
    "                'S3DataType': 'ManifestFile',\n",
    "                'S3Uri': manifest_location\n",
    "            }\n",
    "        },\n",
    "        'ContentType': 'application/json'\n",
    "    },\n",
    "    TransformOutput={\n",
    "        'S3OutputPath': output_location,\n",
    "        'Accept': 'application/json'\n",
    "    },\n",
    "    TransformResources={\n",
    "        'InstanceType': 'ml.p3.2xlarge',    # cheapest/slow: 'ml.m4.xlarge' (crashed), recommended: 'ml.p3.2xlarge'\n",
    "        'InstanceCount': 1,\n",
    "    },\n",
    "    Tags=tag_dicts\n",
    ")\n",
    "response"
   ]
  },
  {
   "cell_type": "code",
   "execution_count": null,
   "id": "117312a7",
   "metadata": {},
   "outputs": [],
   "source": [
    "output_location"
   ]
  },
  {
   "cell_type": "code",
   "execution_count": null,
   "id": "cff000cd",
   "metadata": {},
   "outputs": [],
   "source": [
    "transcribe = session.client('transcribe')\n",
    "transcribe_audio_input_key = f's3://{bucket_name}/audio/sample1.mp3'\n",
    "print(f'{transcribe_audio_input_key} -> {transcribe_output_key}')"
   ]
  },
  {
   "cell_type": "code",
   "execution_count": null,
   "id": "bd6c50d5",
   "metadata": {},
   "outputs": [],
   "source": [
    "for episode_audio_key in episode_audio_keys[1:]:\n",
    "    mp3_audio_key = episode_audio_key.replace('m4a', 'mp3')\n",
    "    prefix = Path(mp3_audio_key).stem\n",
    "    transcribe_output_key = f'transcribe-output/{prefix}'\n",
    "    transcribe_job_name = datetime.datetime.now().strftime(f'%Y%m%d%H%M%S_{prefix}')\n",
    "    transcribe.start_transcription_job(\n",
    "        TranscriptionJobName=transcribe_job_name,\n",
    "    #     LanguageCode='af-ZA'|'ar-AE'|'ar-SA'|'da-DK'|'de-CH'|'de-DE'|'en-AB'|'en-AU'|'en-GB'|'en-IE'|'en-IN'|'en-US'|'en-WL'|'es-ES'|'es-US'|'fa-IR'|'fr-CA'|'fr-FR'|'he-IL'|'hi-IN'|'id-ID'|'it-IT'|'ja-JP'|'ko-KR'|'ms-MY'|'nl-NL'|'pt-BR'|'pt-PT'|'ru-RU'|'ta-IN'|'te-IN'|'tr-TR'|'zh-CN'|'zh-TW'|'th-TH'|'en-ZA'|'en-NZ',\n",
    "    #     MediaSampleRateHertz=123,\n",
    "        MediaFormat='mp3',\n",
    "        Media={\n",
    "            'MediaFileUri': f's3://{bucket_name}/{mp3_audio_key}',\n",
    "        },\n",
    "        OutputBucketName=bucket_name,\n",
    "        OutputKey=transcribe_output_key,\n",
    "    #     OutputEncryptionKMSKeyId='string',\n",
    "    #     KMSEncryptionContext={\n",
    "    #         'string': 'string'\n",
    "    #     },\n",
    "        Settings={\n",
    "    #         'VocabularyName': 'string',\n",
    "            'ShowSpeakerLabels': True,\n",
    "            'MaxSpeakerLabels': 3,\n",
    "    #         'ChannelIdentification': True|False,\n",
    "    #         'ShowAlternatives': True|False,\n",
    "    #         'MaxAlternatives': 123,\n",
    "    #         'VocabularyFilterName': 'string',\n",
    "    #         'VocabularyFilterMethod': 'remove'|'mask'|'tag'\n",
    "        },\n",
    "    #     ModelSettings={\n",
    "    #         'LanguageModelName': 'string'\n",
    "    #     },\n",
    "    #     JobExecutionSettings={\n",
    "    #         'AllowDeferredExecution': True|False,\n",
    "    #         'DataAccessRoleArn': 'string'\n",
    "    #     },\n",
    "    #     ContentRedaction={\n",
    "    #         'RedactionType': 'PII',\n",
    "    #         'RedactionOutput': 'redacted'|'redacted_and_unredacted',\n",
    "    #         'PiiEntityTypes': [\n",
    "    #             'BANK_ACCOUNT_NUMBER'|'BANK_ROUTING'|'CREDIT_DEBIT_NUMBER'|'CREDIT_DEBIT_CVV'|'CREDIT_DEBIT_EXPIRY'|'PIN'|'EMAIL'|'ADDRESS'|'NAME'|'PHONE'|'SSN'|'ALL',\n",
    "    #         ]\n",
    "    #     },\n",
    "        IdentifyLanguage=True,\n",
    "        IdentifyMultipleLanguages=False,\n",
    "        LanguageOptions=[\n",
    "            'en-IE', 'en-GB', 'en-US',\n",
    "        ],\n",
    "        Subtitles={\n",
    "            'Formats': [\n",
    "                'vtt',\n",
    "            ],\n",
    "    #         'OutputStartIndex': 123\n",
    "        },\n",
    "        Tags=tag_dicts,\n",
    "    #     LanguageIdSettings={\n",
    "    #         'string': {\n",
    "    #             'VocabularyName': 'string',\n",
    "    #             'VocabularyFilterName': 'string',\n",
    "    #             'LanguageModelName': 'string'\n",
    "    #         }\n",
    "    #     }\n",
    "    )"
   ]
  },
  {
   "cell_type": "code",
   "execution_count": null,
   "id": "fcc42e23",
   "metadata": {},
   "outputs": [],
   "source": []
  }
 ],
 "metadata": {
  "kernelspec": {
   "display_name": "Python 3",
   "language": "python",
   "name": "python3"
  },
  "language_info": {
   "codemirror_mode": {
    "name": "ipython",
    "version": 3
   },
   "file_extension": ".py",
   "mimetype": "text/x-python",
   "name": "python",
   "nbconvert_exporter": "python",
   "pygments_lexer": "ipython3"
  }
 },
 "nbformat": 4,
 "nbformat_minor": 5
}
