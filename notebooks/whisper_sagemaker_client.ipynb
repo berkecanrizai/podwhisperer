{
 "cells": [
  {
   "cell_type": "code",
   "execution_count": null,
   "id": "5ab7c195",
   "metadata": {},
   "outputs": [],
   "source": [
    "import boto3\n",
    "\n",
    "import datetime"
   ]
  },
  {
   "cell_type": "code",
   "execution_count": null,
   "id": "72407b63",
   "metadata": {},
   "outputs": [],
   "source": [
    "session = boto3.session.Session(profile_name='dev2.DevAdministratorAccess')"
   ]
  },
  {
   "cell_type": "code",
   "execution_count": null,
   "id": "8290b869",
   "metadata": {},
   "outputs": [],
   "source": [
    "region_name = session.region_name\n",
    "account_id = session.client('sts').get_caller_identity()['Account']\n",
    "region_name, account_id"
   ]
  },
  {
   "cell_type": "code",
   "execution_count": null,
   "id": "6c535a00",
   "metadata": {},
   "outputs": [],
   "source": [
    "sm_runtime = session.client('sagemaker-runtime')\n",
    "s3_client = session.client('s3')\n",
    "sage = session.client('sagemaker')"
   ]
  },
  {
   "cell_type": "code",
   "execution_count": null,
   "id": "26db69f8",
   "metadata": {},
   "outputs": [],
   "source": [
    "model_name = sage.list_models()['Models'][0]['ModelName']"
   ]
  },
  {
   "cell_type": "code",
   "execution_count": null,
   "id": "09d3810a",
   "metadata": {},
   "outputs": [],
   "source": [
    "bucket_name = f'pod-transcription-{account_id}-{region_name}'"
   ]
  },
  {
   "cell_type": "code",
   "execution_count": null,
   "id": "6db7e00e",
   "metadata": {},
   "outputs": [],
   "source": [
    "manifest =[\n",
    "    {\n",
    "        \"prefix\": f\"s3://{bucket_name}/whisper-batch-input/\"\n",
    "    }\n",
    "]"
   ]
  },
  {
   "cell_type": "code",
   "execution_count": null,
   "id": "50991651",
   "metadata": {},
   "outputs": [],
   "source": [
    "samples = ['sample1.m4a', 'sample2.m4a', '37-migrating-monoliths.m4a']\n",
    "for sample in samples:\n",
    "    input_data = json.dumps({\n",
    "        'bucket_name': bucket_name,\n",
    "        'object_key': f'audio/{sample}',\n",
    "    })\n",
    "    input_file = f'{sample}.json'\n",
    "    input_data_key = f'whisper-batch-input/{input_file}'\n",
    "    input_location = f's3://{bucket_name}/{input_data_key}'\n",
    "    manifest.append(input_file)\n",
    "    s3_client.put_object(Bucket=bucket_name, Key=input_data_key, Body=input_data)\n",
    "    print(f'Wrote {input_data} to s3://{bucket_name}/{input_data_key}')"
   ]
  },
  {
   "cell_type": "code",
   "execution_count": null,
   "id": "658c403b",
   "metadata": {},
   "outputs": [],
   "source": [
    "with open('../common-tags.json') as f:\n",
    "    tags = json.load(f)\n",
    "\n",
    "tag_dicts = []\n",
    "for tag in tags:\n",
    "    k, v = tag.split('=')\n",
    "    tag_dicts.append({ 'Key': k, 'Value': v})\n",
    "tag_dicts"
   ]
  },
  {
   "cell_type": "code",
   "execution_count": null,
   "id": "34111d5e",
   "metadata": {},
   "outputs": [],
   "source": [
    "job_name = datetime.datetime.now().strftime('%Y%m%d%H%M%S')\n",
    "manifest_key = f'whisper-batch-input/{job_name}.manifest'\n",
    "manifest_location = f's3://{bucket_name}/{manifest_key}'\n",
    "print(f'Wrote {manifest} to {manifest_location}')\n",
    "s3_client.put_object(Bucket=bucket_name, Key=manifest_key, Body=json.dumps(manifest))\n",
    "\n",
    "output_location = f's3://{bucket_name}/whisper-batch-output/{job_name}'\n",
    "response = sage.create_transform_job(\n",
    "    TransformJobName=job_name,\n",
    "    ModelName=model_name,\n",
    "    MaxConcurrentTransforms=1,\n",
    "    BatchStrategy='SingleRecord',\n",
    "    ModelClientConfig={\n",
    "        'InvocationsTimeoutInSeconds': 3600,\n",
    "        'InvocationsMaxRetries': 0\n",
    "    },\n",
    "    TransformInput={\n",
    "        'DataSource': {\n",
    "            'S3DataSource': {\n",
    "                'S3DataType': 'ManifestFile',\n",
    "                'S3Uri': manifest_location\n",
    "            }\n",
    "        },\n",
    "        'ContentType': 'application/json'\n",
    "    },\n",
    "    TransformOutput={\n",
    "        'S3OutputPath': output_location,\n",
    "        'Accept': 'application/json'\n",
    "    },\n",
    "    TransformResources={\n",
    "        'InstanceType': 'ml.g4dn.xlarge',    # cheapest/slow: 'ml.m4.xlarge'\n",
    "        'InstanceCount': 1,\n",
    "    },\n",
    "    Tags=tag_dicts\n",
    ")\n",
    "response"
   ]
  },
  {
   "cell_type": "code",
   "execution_count": null,
   "id": "85bffb50",
   "metadata": {},
   "outputs": [],
   "source": [
    "sm_runtime.invoke_endpoint_async(\n",
    "    EndpointName=endpoint_name,\n",
    "    InputLocation=input_location,\n",
    "    ContentType='application/json',\n",
    "    Accept='application/json',\n",
    ")"
   ]
  },
  {
   "cell_type": "code",
   "execution_count": null,
   "id": "68601ad5",
   "metadata": {},
   "outputs": [],
   "source": [
    "sage.delete_endpoint(EndpointName=endpoint_name)"
   ]
  },
  {
   "cell_type": "code",
   "execution_count": null,
   "id": "25de8cd9",
   "metadata": {},
   "outputs": [],
   "source": [
    "kk"
   ]
  }
 ],
 "metadata": {
  "kernelspec": {
   "display_name": "Python 3",
   "language": "python",
   "name": "python3"
  },
  "language_info": {
   "codemirror_mode": {
    "name": "ipython",
    "version": 3
   },
   "file_extension": ".py",
   "mimetype": "text/x-python",
   "name": "python",
   "nbconvert_exporter": "python",
   "pygments_lexer": "ipython3"
  }
 },
 "nbformat": 4,
 "nbformat_minor": 5
}
